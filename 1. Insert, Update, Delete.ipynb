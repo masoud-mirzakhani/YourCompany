{
    "metadata": {
        "kernelspec": {
            "name": "SQL",
            "display_name": "SQL",
            "language": "sql"
        },
        "language_info": {
            "name": "sql",
            "version": ""
        }
    },
    "nbformat_minor": 2,
    "nbformat": 4,
    "cells": [
        {
            "cell_type": "markdown",
            "source": [
                "**INSERT**\n",
                "\n",
                "روش اول"
            ],
            "metadata": {
                "azdata_cell_guid": "fa6f19e5-83ae-4a58-98b8-2a51c67ba005"
            }
        },
        {
            "cell_type": "code",
            "source": [
                "USE SQLCLass\r\n",
                "GO\r\n",
                "\r\n",
                "CREATE TABLE dbo.City\r\n",
                "(\r\n",
                "\tID INT,\r\n",
                "\tTitle VARCHAR(50)\r\n",
                ")\r\n",
                "INSERT INTO [dbo].[City]\r\n",
                "VALUES\r\n",
                "\t(1,'Tehran'),\r\n",
                "\t(2,'Shiraz')"
            ],
            "metadata": {
                "azdata_cell_guid": "6baa2d9c-5fb4-46aa-9a50-5b97cb63f2bd"
            },
            "outputs": [],
            "execution_count": null
        },
        {
            "cell_type": "code",
            "source": [
                "INSERT INTO [dbo].[City]\r\n",
                "(\r\n",
                "\tID,\r\n",
                "\tTitle\r\n",
                ")\r\n",
                "VALUES\r\n",
                "\t(3,'Tabriz'),\r\n",
                "\t(4,'Esfahan')"
            ],
            "metadata": {
                "azdata_cell_guid": "4f9ff4ef-e64d-4e04-b570-780218a0b5b6"
            },
            "outputs": [],
            "execution_count": null
        },
        {
            "cell_type": "code",
            "source": [
                "SELECT \r\n",
                "\t* \r\n",
                "FROM \r\n",
                "\tdbo.City"
            ],
            "metadata": {
                "azdata_cell_guid": "ad9bc7b4-55a3-4f7d-af14-31abaeb7854e"
            },
            "outputs": [],
            "execution_count": null
        },
        {
            "cell_type": "markdown",
            "source": [
                "**INSERT** \n",
                "\n",
                "روش دوم"
            ],
            "metadata": {
                "azdata_cell_guid": "67ba4c66-79dc-4d9f-9b8f-92ca63b498f0"
            }
        },
        {
            "cell_type": "code",
            "source": [
                "CREATE TABLE dbo.City2\r\n",
                "(\r\n",
                "\tID INT,\r\n",
                "\tTitle VARCHAR(50)\r\n",
                ")\r\n",
                "\r\n",
                "INSERT INTO dbo.City2\r\n",
                "(\r\n",
                "\tID,\r\n",
                "\tTitle\r\n",
                ")\r\n",
                "SELECT \r\n",
                "\tID,\r\n",
                "\tTitle\r\n",
                "FROM\r\n",
                "\tdbo.City"
            ],
            "metadata": {
                "azdata_cell_guid": "d7ac2680-49b7-4d6c-9462-e7844dd63f88"
            },
            "outputs": [],
            "execution_count": null
        },
        {
            "cell_type": "code",
            "source": [
                "\r\n",
                "SELECT \r\n",
                "\tID,\r\n",
                "\tTitle\r\n",
                "FROM\r\n",
                "\tdbo.City2"
            ],
            "metadata": {
                "azdata_cell_guid": "0a695719-2b23-427c-aa58-1fa87ddf1b46"
            },
            "outputs": [],
            "execution_count": null
        },
        {
            "cell_type": "markdown",
            "source": [
                "**INSERT**\n",
                "\n",
                "  \n",
                "\n",
                "روش سوم"
            ],
            "metadata": {
                "azdata_cell_guid": "d4026db1-7527-423e-8bfb-5d92c0fbbfe2"
            }
        },
        {
            "cell_type": "code",
            "source": [
                "SELECT \r\n",
                "\t*\r\n",
                "INTO\r\n",
                "\tCity3\r\n",
                "FROM\r\n",
                "\tCity"
            ],
            "metadata": {
                "azdata_cell_guid": "0f6f7c1a-a2c5-4f02-9281-67267dac9fa9"
            },
            "outputs": [],
            "execution_count": null
        },
        {
            "cell_type": "code",
            "source": [
                "SELECT \r\n",
                "\t* \r\n",
                "FROM \r\n",
                "\tdbo.City3"
            ],
            "metadata": {
                "azdata_cell_guid": "f739552f-78fe-4cfa-99d6-c5e09befcab5"
            },
            "outputs": [],
            "execution_count": null
        },
        {
            "cell_type": "markdown",
            "source": [
                "**UPDATE** \n",
                "\n",
                "  \n",
                "\n",
                "روش اول"
            ],
            "metadata": {
                "azdata_cell_guid": "54358a37-3d83-4c75-a0a9-f7b41273d3b2"
            }
        },
        {
            "cell_type": "code",
            "source": [
                "USE SQLCLass\r\n",
                "GO\r\n",
                "\r\n",
                "SELECT \r\n",
                "\t* \r\n",
                "FROM \r\n",
                "\tdbo.City\r\n",
                "WHERE\r\n",
                "\tID = 1"
            ],
            "metadata": {
                "azdata_cell_guid": "999a7a6a-6c2a-42d0-8ef9-d7522a02acc7"
            },
            "outputs": [],
            "execution_count": null
        },
        {
            "cell_type": "code",
            "source": [
                "UPDATE \tdbo.City\r\n",
                "SET \r\n",
                "\tTitle = 'Rasht'\r\n",
                "WHERE\r\n",
                "\tID = 1"
            ],
            "metadata": {
                "azdata_cell_guid": "2d3af9d6-36a0-4a31-9bda-ab19dfddc061"
            },
            "outputs": [],
            "execution_count": null
        },
        {
            "cell_type": "code",
            "source": [
                "SELECT \r\n",
                "\t* \r\n",
                "FROM \r\n",
                "\tdbo.City\r\n",
                "WHERE\r\n",
                "\tID = 1"
            ],
            "metadata": {
                "azdata_cell_guid": "d94a2e7b-4575-42c8-b888-c57ebfa065b8"
            },
            "outputs": [],
            "execution_count": null
        },
        {
            "cell_type": "markdown",
            "source": [
                "آماده سازی اطلاعات"
            ],
            "metadata": {
                "azdata_cell_guid": "cb2c3007-fd85-425c-8c9d-ec105b88a919"
            }
        },
        {
            "cell_type": "code",
            "source": [
                "USE SQLCLass\r\n",
                "GO\r\n",
                "\r\n",
                "CREATE TABLE dbo.Employee\r\n",
                "(\r\n",
                "\tID INT,\r\n",
                "\tName VARCHAR(50),\r\n",
                "\tCityID INT\r\n",
                ")"
            ],
            "metadata": {
                "azdata_cell_guid": "1c4f068d-9696-4621-9a37-2bc84b294d88"
            },
            "outputs": [],
            "execution_count": null
        },
        {
            "cell_type": "code",
            "source": [
                "INSERT INTO dbo.Employee\r\n",
                "VALUES\r\n",
                "\t(1, 'Ali', 1),\r\n",
                "\t(2, 'Ahmad', 1),\r\n",
                "\t(3, 'Hasan', 2),\r\n",
                "\t(4, 'Hosein', 2),\r\n",
                "\t(5, 'Akbar', 2),\r\n",
                "\t(6, 'Reza', 2),\r\n",
                "\t(7, 'Omid', 3)"
            ],
            "metadata": {
                "azdata_cell_guid": "7a2308ba-c554-4437-87c0-b4c7167884c7"
            },
            "outputs": [],
            "execution_count": null
        },
        {
            "cell_type": "code",
            "source": [
                "ALTER TABLE dbo.Employee\r\n",
                "ADD \r\n",
                "\tCityName\tVARCHAR(50)"
            ],
            "metadata": {
                "azdata_cell_guid": "d2ba09fb-5f4b-486f-b8a4-80d7ef0eda17"
            },
            "outputs": [],
            "execution_count": null
        },
        {
            "cell_type": "code",
            "source": [
                "SELECT \r\n",
                "\t*\r\n",
                "FROM\r\n",
                "\tdbo.Employee"
            ],
            "metadata": {
                "azdata_cell_guid": "af9ae159-7352-43d3-a82f-ec096152a04f",
                "tags": []
            },
            "outputs": [],
            "execution_count": null
        },
        {
            "cell_type": "code",
            "source": [
                "ALTER TABLE dbo.City\r\n",
                "ADD EmployeeCount INT"
            ],
            "metadata": {
                "azdata_cell_guid": "f65cae31-34f3-4b73-af93-2ea7332a0f8f"
            },
            "outputs": [],
            "execution_count": null
        },
        {
            "cell_type": "code",
            "source": [
                "SELECT \r\n",
                "\t*\r\n",
                "FROM\r\n",
                "\tdbo.City"
            ],
            "metadata": {
                "azdata_cell_guid": "f624e5ea-fa13-484b-b2e5-c221a2d0d07c"
            },
            "outputs": [],
            "execution_count": null
        },
        {
            "cell_type": "markdown",
            "source": [
                "**UPDATE**\n",
                "\n",
                "  \n",
                "\n",
                "روش دوم"
            ],
            "metadata": {
                "azdata_cell_guid": "45c5693c-a505-4a04-b9ed-31e50efd5ed8"
            }
        },
        {
            "cell_type": "code",
            "source": [
                "SELECT \r\n",
                "\t*\r\n",
                "FROM \r\n",
                "\t[dbo].Employee AS E\r\n",
                "INNER JOIN\t\r\n",
                "\t[dbo].[City] AS C\r\n",
                "ON\r\n",
                "\tC.ID = E.CityID"
            ],
            "metadata": {
                "azdata_cell_guid": "f25c0b61-e7e0-4d6e-9a46-d61643945034"
            },
            "outputs": [],
            "execution_count": null
        },
        {
            "cell_type": "code",
            "source": [
                "UPDATE \r\n",
                "\tE\r\n",
                "SET\r\n",
                "\tE.CityName = C.Name\r\n",
                "FROM \r\n",
                "\t[dbo].Employee AS E\r\n",
                "INNER JOIN\t\r\n",
                "\t[dbo].[City] AS C\r\n",
                "ON\r\n",
                "\tC.ID = E.CityID"
            ],
            "metadata": {
                "azdata_cell_guid": "8272d01a-3b98-40b2-adaa-9009fd4f4f0d"
            },
            "outputs": [],
            "execution_count": null
        },
        {
            "cell_type": "code",
            "source": [
                "SELECT \r\n",
                "\t*\r\n",
                "FROM \r\n",
                "\t[dbo].Employee"
            ],
            "metadata": {
                "azdata_cell_guid": "a534772d-4bf4-4d21-9bd6-a4ff68f498a3"
            },
            "outputs": [],
            "execution_count": null
        },
        {
            "cell_type": "markdown",
            "source": [
                "**UPDATE**\n",
                "\n",
                "  \n",
                "\n",
                "روش سوم"
            ],
            "metadata": {
                "azdata_cell_guid": "e27ff9a4-1742-4872-a7a3-22eacf7cdf5c"
            }
        },
        {
            "cell_type": "code",
            "source": [
                "WITH Employee\r\n",
                "AS\r\n",
                "(\r\n",
                "\tSELECT \r\n",
                "\t\tCityID,\r\n",
                "\t\tCOUNT(*) AS Cnt\r\n",
                "\tFROM \r\n",
                "\t\t[dbo].Employee AS E\r\n",
                "\tGROUP BY\r\n",
                "\t\tCityID\r\n",
                ")\t\r\n",
                "\r\n",
                "SELECT \r\n",
                "\t*\r\n",
                "FROM \r\n",
                "\t[dbo].[City] AS C\r\n",
                "LEFT OUTER JOIN\t\r\n",
                "\tEmployee AS E\r\n",
                "ON\r\n",
                "\tC.ID = E.CityID"
            ],
            "metadata": {
                "azdata_cell_guid": "4f90000b-a653-489e-98ae-833d50ed0be0"
            },
            "outputs": [],
            "execution_count": null
        },
        {
            "cell_type": "code",
            "source": [
                "WITH Employee\r\n",
                "AS\r\n",
                "(\r\n",
                "\tSELECT \r\n",
                "\t\tCityID,\r\n",
                "\t\tCOUNT(*) AS Cnt\r\n",
                "\tFROM \r\n",
                "\t\t[dbo].Employee AS E\r\n",
                "\tGROUP BY\r\n",
                "\t\tCityID\r\n",
                ")\t\r\n",
                "\r\n",
                "UPDATE C\r\n",
                "SET \r\n",
                "\tC.EmployeeCount = ISNULL(E.Cnt, 0)\r\n",
                "FROM \r\n",
                "\t[dbo].[City] AS C\r\n",
                "LEFT OUTER JOIN\t\r\n",
                "\tEmployee AS E\r\n",
                "ON\r\n",
                "\tC.ID = E.CityID"
            ],
            "metadata": {
                "azdata_cell_guid": "de0008fa-80bc-49b7-9ab7-1a5260d7eab8"
            },
            "outputs": [],
            "execution_count": null
        },
        {
            "cell_type": "code",
            "source": [
                "SELECT \r\n",
                "\t*\r\n",
                "FROM\r\n",
                "\tdbo.City"
            ],
            "metadata": {
                "azdata_cell_guid": "6859bf94-184a-4ff8-b8dd-e702c6ab1857"
            },
            "outputs": [],
            "execution_count": null
        },
        {
            "cell_type": "markdown",
            "source": [
                "**DELETE**  \n",
                "\n",
                "  \n",
                "\n",
                "روش اول"
            ],
            "metadata": {
                "azdata_cell_guid": "25a2a54f-6f25-471a-b7cb-5f079f1a4a8d"
            }
        },
        {
            "cell_type": "code",
            "source": [
                "USE SQLCLass\r\n",
                "GO\r\n",
                "\r\n",
                "DELETE dbo.City2"
            ],
            "metadata": {
                "azdata_cell_guid": "a3f59e07-0b1b-4ff3-8615-109b832e997c"
            },
            "outputs": [],
            "execution_count": null
        },
        {
            "cell_type": "code",
            "source": [
                "DELETE \r\n",
                "FROM\r\n",
                "\tdbo.City3\r\n",
                "WHERE\r\n",
                "\tID > 2"
            ],
            "metadata": {
                "azdata_cell_guid": "fc82c6ca-7415-4203-9c9b-d9458b2ad3c7"
            },
            "outputs": [],
            "execution_count": null
        },
        {
            "cell_type": "code",
            "source": [
                "SELECT\t\r\n",
                "\t*\r\n",
                "FROM\r\n",
                "\tdbo.City2"
            ],
            "metadata": {
                "azdata_cell_guid": "550e35a6-8544-49e1-9d0b-3e1372661de6"
            },
            "outputs": [],
            "execution_count": null
        },
        {
            "cell_type": "code",
            "source": [
                "SELECT\t\r\n",
                "\t*\r\n",
                "FROM\r\n",
                "\tdbo.City3"
            ],
            "metadata": {
                "azdata_cell_guid": "8f7983ea-82aa-41e1-89d5-49b58ae5cb3e"
            },
            "outputs": [],
            "execution_count": null
        },
        {
            "cell_type": "markdown",
            "source": [
                "**DELETE**  \n",
                "\n",
                "  \n",
                "\n",
                "روش سوم"
            ],
            "metadata": {
                "azdata_cell_guid": "8a48c7fa-9e62-4516-b2fd-908ca803c3d7"
            }
        },
        {
            "cell_type": "code",
            "source": [
                "USE SQLCLass\r\n",
                "GO\r\n",
                "\r\n",
                "SELECT \r\n",
                "\t* \r\n",
                "FROM\r\n",
                "\tdbo.City AS C\r\n",
                "LEFT OUTER JOIN\t\r\n",
                "\tdbo.Employee AS E\r\n",
                "ON\r\n",
                "\tC.ID = E.CityID\r\n",
                "WHERE\r\n",
                "\tE.ID IS NULL"
            ],
            "metadata": {
                "azdata_cell_guid": "00d0a4ba-5d3e-4104-9fb1-b3c6527c6a6d"
            },
            "outputs": [],
            "execution_count": null
        },
        {
            "cell_type": "code",
            "source": [
                "DELETE\r\n",
                "\tC\r\n",
                "FROM\r\n",
                "\tdbo.City AS C\r\n",
                "LEFT OUTER JOIN\t\r\n",
                "\tdbo.Employee AS E\r\n",
                "ON\r\n",
                "\tC.ID = E.CityID\r\n",
                "WHERE\r\n",
                "\tE.ID IS NULL"
            ],
            "metadata": {
                "azdata_cell_guid": "d066bf64-31b9-4a52-97b9-a7d00c2cb8c7"
            },
            "outputs": [],
            "execution_count": null
        },
        {
            "cell_type": "code",
            "source": [
                "SELECT \r\n",
                "\t* \r\n",
                "FROM\r\n",
                "\tdbo.City"
            ],
            "metadata": {
                "azdata_cell_guid": "82014cdc-c023-435e-b30f-485cab22c868"
            },
            "outputs": [],
            "execution_count": null
        }
    ]
}