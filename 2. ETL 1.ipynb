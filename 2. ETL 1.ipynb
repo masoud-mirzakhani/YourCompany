{
    "metadata": {
        "kernelspec": {
            "name": "SQL",
            "display_name": "SQL",
            "language": "sql"
        },
        "language_info": {
            "name": "sql",
            "version": ""
        }
    },
    "nbformat_minor": 2,
    "nbformat": 4,
    "cells": [
        {
            "cell_type": "code",
            "source": [
                "USE YourCompany_DW\r\n",
                "GO\r\n",
                "\r\n",
                "CREATE OR ALTER PROC BI.spETLFactAccountingVoucher\r\n",
                "AS\r\n",
                "BEGIN\r\n",
                "\t--Truncate Fact Table\r\n",
                "\tTRUNCATE TABLE BI.FactAccountingVoucher\r\n",
                "\r\n",
                "\t--Delete Dimension Table\r\n",
                "\tDELETE FROM BI.DimAccount \r\n",
                "\tDELETE FROM BI.DimAccountingVoucherState \r\n",
                "\tDELETE FROM BI.DimAccountingVoucherType\r\n",
                "\tDELETE FROM BI.DimSystem\r\n",
                "\tDELETE FROM BI.DimDetailedAccount\r\n",
                "\tDELETE FROM BI.DimCurrency\r\n",
                "\r\n",
                "\t--Insert Dimension Table\r\n",
                "\tINSERT INTO BI.DimAccount \r\n",
                "\t(\r\n",
                "\t\tAccountID, \r\n",
                "\t\tAccountCode, \r\n",
                "\t\tPrimaryCode, \r\n",
                "\t\tGeneralCode, \r\n",
                "\t\tSubsIDiaryCode, \r\n",
                "\t\tPrimaryTitle, \r\n",
                "\t\tGeneralTitle, \r\n",
                "\t\tTitle\t\r\n",
                "\t)\r\n",
                "\tSELECT \r\n",
                "\t\tAccountID, \r\n",
                "\t\tAccountCode, \r\n",
                "\t\tPrimaryCode, \r\n",
                "\t\tGeneralCode, \r\n",
                "\t\tSubsIDiaryCode, \r\n",
                "\t\tPrimaryTitle, \r\n",
                "\t\tGeneralTitle, \r\n",
                "\t\tTitle\t \r\n",
                "\tFROM \r\n",
                "\t\tYourCompany.BI.vwDimAccount \r\n",
                "\r\n",
                "\tINSERT INTO BI.DimAccountingVoucherState \r\n",
                "\tSELECT * FROM YourCompany.BI.vwDimAccountingVoucherState\r\n",
                "\r\n",
                "\tINSERT INTO BI.DimAccountingVoucherType \r\n",
                "\tSELECT * FROM YourCompany.BI.vwDimAccountingVoucherType\r\n",
                "\t   \r\n",
                "\tINSERT INTO BI.DimSystem \r\n",
                "\tSELECT * FROM YourCompany.BI.vwDimSystem\r\n",
                "\r\n",
                "\tINSERT INTO BI.DimDetailedAccount \r\n",
                "\tSELECT * FROM YourCompany.BI.vwDimDetailedAccount\r\n",
                "\r\n",
                "\tINSERT INTO BI.DimCurrency \r\n",
                "\tSELECT * FROM YourCompany.BI.vwDimCurrency\r\n",
                "\r\n",
                "\t--Insert Fact Table\r\n",
                "\tINSERT INTO BI.FactAccountingVoucher \r\n",
                "\tSELECT * FROM YourCompany.BI.vwFactAccountingVoucher\r\n",
                "END"
            ],
            "metadata": {
                "azdata_cell_guid": "47c525b7-b6ef-4a29-9a46-3b4d431266c5"
            },
            "outputs": [],
            "execution_count": null
        },
        {
            "cell_type": "code",
            "source": [
                "EXEC BI.spETLFactAccountingVoucher"
            ],
            "metadata": {
                "azdata_cell_guid": "3997c0ba-6d06-47a6-b08f-e8f43f7eca29"
            },
            "outputs": [],
            "execution_count": null
        }
    ]
}